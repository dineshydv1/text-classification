{
 "cells": [
  {
   "cell_type": "markdown",
   "metadata": {},
   "source": [
    "# Few steps with keras"
   ]
  },
  {
   "cell_type": "markdown",
   "metadata": {},
   "source": [
    "This notebook is divided into below 4 section:\n",
    "1. Introduction\n",
    "2. Data read, preparation and explore\n",
    "3. RandomForest GridSearch\n",
    "4. Model test on validation set\n",
    "5. Result Submission\n"
   ]
  },
  {
   "cell_type": "markdown",
   "metadata": {},
   "source": [
    "# 1. Introduction\n",
    "\n",
    "This is the simplest demonstration of keras model using tensorflow as backend. \n",
    "I achieved accuracy of 97% which is not very great but its still descent. Moreover the model is built with default options so it still have scope for improvement. \n",
    "\n",
    "Initially, my accuracy was not that good and it did not improved beyond 85% despite multiple epochs. Then I tried with below options and accuracy improved to current levels.\n",
    "\n",
    "1. Hot-encoding the labels. \n",
    "\n",
    "2. Scaling X variables. \n",
    "\n",
    "3. Trying different optimisers\n",
    "\n",
    "4. Increasing epochs\n"
   ]
  },
  {
   "cell_type": "markdown",
   "metadata": {},
   "source": [
    "Data used from kaggle competition link: https://www.kaggle.com/c/digit-recognizer/"
   ]
  },
  {
   "cell_type": "markdown",
   "metadata": {},
   "source": [
    "### Import libraries"
   ]
  },
  {
   "cell_type": "code",
   "execution_count": 1,
   "metadata": {},
   "outputs": [
    {
     "name": "stderr",
     "output_type": "stream",
     "text": [
      "Using TensorFlow backend.\n"
     ]
    }
   ],
   "source": [
    "# Basic libraries\n",
    "import numpy as np\n",
    "import pandas as pd\n",
    "\n",
    "# model libraries\n",
    "from sklearn.model_selection import train_test_split\n",
    "import tensorflow\n",
    "import keras\n",
    "#from sklearn.ensemble import RandomForestClassifier\n",
    "#from sklearn.model_selection import KFold\n",
    "#from sklearn.model_selection import GridSearchCV\n",
    "\n",
    "# model accuracy check\n",
    "from sklearn import metrics\n",
    "\n",
    "# plotting libraries\n",
    "import matplotlib.pyplot as plt\n",
    "import seaborn as sns\n"
   ]
  },
  {
   "cell_type": "markdown",
   "metadata": {},
   "source": [
    "# 2. Data read, preparation and explore"
   ]
  },
  {
   "cell_type": "markdown",
   "metadata": {},
   "source": [
    "### Read data files"
   ]
  },
  {
   "cell_type": "code",
   "execution_count": 2,
   "metadata": {},
   "outputs": [],
   "source": [
    "# read the data\n",
    "dir = '.\\\\data\\\\digit-recognizer\\\\'\n",
    "train_file = 'train.csv'\n",
    "test_file = 'test.csv'\n",
    "\n",
    "df_train = pd.read_csv(dir + train_file)\n",
    "df_test = pd.read_csv(dir + test_file)\n"
   ]
  },
  {
   "cell_type": "markdown",
   "metadata": {},
   "source": [
    "### Basic data check"
   ]
  },
  {
   "cell_type": "code",
   "execution_count": 3,
   "metadata": {},
   "outputs": [
    {
     "data": {
      "text/html": [
       "<div>\n",
       "<style scoped>\n",
       "    .dataframe tbody tr th:only-of-type {\n",
       "        vertical-align: middle;\n",
       "    }\n",
       "\n",
       "    .dataframe tbody tr th {\n",
       "        vertical-align: top;\n",
       "    }\n",
       "\n",
       "    .dataframe thead th {\n",
       "        text-align: right;\n",
       "    }\n",
       "</style>\n",
       "<table border=\"1\" class=\"dataframe\">\n",
       "  <thead>\n",
       "    <tr style=\"text-align: right;\">\n",
       "      <th></th>\n",
       "      <th>label</th>\n",
       "      <th>pixel0</th>\n",
       "      <th>pixel1</th>\n",
       "      <th>pixel2</th>\n",
       "      <th>pixel3</th>\n",
       "      <th>pixel4</th>\n",
       "      <th>pixel5</th>\n",
       "      <th>pixel6</th>\n",
       "      <th>pixel7</th>\n",
       "      <th>pixel8</th>\n",
       "      <th>...</th>\n",
       "      <th>pixel774</th>\n",
       "      <th>pixel775</th>\n",
       "      <th>pixel776</th>\n",
       "      <th>pixel777</th>\n",
       "      <th>pixel778</th>\n",
       "      <th>pixel779</th>\n",
       "      <th>pixel780</th>\n",
       "      <th>pixel781</th>\n",
       "      <th>pixel782</th>\n",
       "      <th>pixel783</th>\n",
       "    </tr>\n",
       "  </thead>\n",
       "  <tbody>\n",
       "    <tr>\n",
       "      <th>0</th>\n",
       "      <td>1</td>\n",
       "      <td>0</td>\n",
       "      <td>0</td>\n",
       "      <td>0</td>\n",
       "      <td>0</td>\n",
       "      <td>0</td>\n",
       "      <td>0</td>\n",
       "      <td>0</td>\n",
       "      <td>0</td>\n",
       "      <td>0</td>\n",
       "      <td>...</td>\n",
       "      <td>0</td>\n",
       "      <td>0</td>\n",
       "      <td>0</td>\n",
       "      <td>0</td>\n",
       "      <td>0</td>\n",
       "      <td>0</td>\n",
       "      <td>0</td>\n",
       "      <td>0</td>\n",
       "      <td>0</td>\n",
       "      <td>0</td>\n",
       "    </tr>\n",
       "    <tr>\n",
       "      <th>1</th>\n",
       "      <td>0</td>\n",
       "      <td>0</td>\n",
       "      <td>0</td>\n",
       "      <td>0</td>\n",
       "      <td>0</td>\n",
       "      <td>0</td>\n",
       "      <td>0</td>\n",
       "      <td>0</td>\n",
       "      <td>0</td>\n",
       "      <td>0</td>\n",
       "      <td>...</td>\n",
       "      <td>0</td>\n",
       "      <td>0</td>\n",
       "      <td>0</td>\n",
       "      <td>0</td>\n",
       "      <td>0</td>\n",
       "      <td>0</td>\n",
       "      <td>0</td>\n",
       "      <td>0</td>\n",
       "      <td>0</td>\n",
       "      <td>0</td>\n",
       "    </tr>\n",
       "    <tr>\n",
       "      <th>2</th>\n",
       "      <td>1</td>\n",
       "      <td>0</td>\n",
       "      <td>0</td>\n",
       "      <td>0</td>\n",
       "      <td>0</td>\n",
       "      <td>0</td>\n",
       "      <td>0</td>\n",
       "      <td>0</td>\n",
       "      <td>0</td>\n",
       "      <td>0</td>\n",
       "      <td>...</td>\n",
       "      <td>0</td>\n",
       "      <td>0</td>\n",
       "      <td>0</td>\n",
       "      <td>0</td>\n",
       "      <td>0</td>\n",
       "      <td>0</td>\n",
       "      <td>0</td>\n",
       "      <td>0</td>\n",
       "      <td>0</td>\n",
       "      <td>0</td>\n",
       "    </tr>\n",
       "    <tr>\n",
       "      <th>3</th>\n",
       "      <td>4</td>\n",
       "      <td>0</td>\n",
       "      <td>0</td>\n",
       "      <td>0</td>\n",
       "      <td>0</td>\n",
       "      <td>0</td>\n",
       "      <td>0</td>\n",
       "      <td>0</td>\n",
       "      <td>0</td>\n",
       "      <td>0</td>\n",
       "      <td>...</td>\n",
       "      <td>0</td>\n",
       "      <td>0</td>\n",
       "      <td>0</td>\n",
       "      <td>0</td>\n",
       "      <td>0</td>\n",
       "      <td>0</td>\n",
       "      <td>0</td>\n",
       "      <td>0</td>\n",
       "      <td>0</td>\n",
       "      <td>0</td>\n",
       "    </tr>\n",
       "    <tr>\n",
       "      <th>4</th>\n",
       "      <td>0</td>\n",
       "      <td>0</td>\n",
       "      <td>0</td>\n",
       "      <td>0</td>\n",
       "      <td>0</td>\n",
       "      <td>0</td>\n",
       "      <td>0</td>\n",
       "      <td>0</td>\n",
       "      <td>0</td>\n",
       "      <td>0</td>\n",
       "      <td>...</td>\n",
       "      <td>0</td>\n",
       "      <td>0</td>\n",
       "      <td>0</td>\n",
       "      <td>0</td>\n",
       "      <td>0</td>\n",
       "      <td>0</td>\n",
       "      <td>0</td>\n",
       "      <td>0</td>\n",
       "      <td>0</td>\n",
       "      <td>0</td>\n",
       "    </tr>\n",
       "  </tbody>\n",
       "</table>\n",
       "<p>5 rows × 785 columns</p>\n",
       "</div>"
      ],
      "text/plain": [
       "   label  pixel0  pixel1  pixel2  pixel3  pixel4  pixel5  pixel6  pixel7  \\\n",
       "0      1       0       0       0       0       0       0       0       0   \n",
       "1      0       0       0       0       0       0       0       0       0   \n",
       "2      1       0       0       0       0       0       0       0       0   \n",
       "3      4       0       0       0       0       0       0       0       0   \n",
       "4      0       0       0       0       0       0       0       0       0   \n",
       "\n",
       "   pixel8  ...  pixel774  pixel775  pixel776  pixel777  pixel778  pixel779  \\\n",
       "0       0  ...         0         0         0         0         0         0   \n",
       "1       0  ...         0         0         0         0         0         0   \n",
       "2       0  ...         0         0         0         0         0         0   \n",
       "3       0  ...         0         0         0         0         0         0   \n",
       "4       0  ...         0         0         0         0         0         0   \n",
       "\n",
       "   pixel780  pixel781  pixel782  pixel783  \n",
       "0         0         0         0         0  \n",
       "1         0         0         0         0  \n",
       "2         0         0         0         0  \n",
       "3         0         0         0         0  \n",
       "4         0         0         0         0  \n",
       "\n",
       "[5 rows x 785 columns]"
      ]
     },
     "execution_count": 3,
     "metadata": {},
     "output_type": "execute_result"
    }
   ],
   "source": [
    "df_train.head()"
   ]
  },
  {
   "cell_type": "code",
   "execution_count": 4,
   "metadata": {},
   "outputs": [
    {
     "data": {
      "text/plain": [
       "(42000, 785)"
      ]
     },
     "execution_count": 4,
     "metadata": {},
     "output_type": "execute_result"
    }
   ],
   "source": [
    "df_train.shape"
   ]
  },
  {
   "cell_type": "markdown",
   "metadata": {},
   "source": [
    "Each digit image is of 28x28 size which is total of 784 pixels. These pixel values are stored in columns pixel0....pixel785 (independent variable) for a digit. \n",
    "Column label contains the corresponding digit (dependent variable)."
   ]
  },
  {
   "cell_type": "code",
   "execution_count": 5,
   "metadata": {},
   "outputs": [
    {
     "data": {
      "text/plain": [
       "Index(['label', 'pixel0', 'pixel1', 'pixel2', 'pixel3', 'pixel4', 'pixel5',\n",
       "       'pixel6', 'pixel7', 'pixel8',\n",
       "       ...\n",
       "       'pixel774', 'pixel775', 'pixel776', 'pixel777', 'pixel778', 'pixel779',\n",
       "       'pixel780', 'pixel781', 'pixel782', 'pixel783'],\n",
       "      dtype='object', length=785)"
      ]
     },
     "execution_count": 5,
     "metadata": {},
     "output_type": "execute_result"
    }
   ],
   "source": [
    "# columns pixel0....pixel785 are independent variable of a digit\n",
    "# column label contains the digit (dependent variable)\n",
    "\n",
    "df_train.columns"
   ]
  },
  {
   "cell_type": "markdown",
   "metadata": {},
   "source": [
    "Test data set contains 784 pixel values for a digit. It does not contain the label.\n",
    "\n",
    "Need to indentify the digit based on the 784 pixels. "
   ]
  },
  {
   "cell_type": "code",
   "execution_count": 6,
   "metadata": {},
   "outputs": [
    {
     "data": {
      "text/plain": [
       "(28000, 784)"
      ]
     },
     "execution_count": 6,
     "metadata": {},
     "output_type": "execute_result"
    }
   ],
   "source": [
    "df_test.shape"
   ]
  },
  {
   "cell_type": "code",
   "execution_count": 7,
   "metadata": {},
   "outputs": [
    {
     "data": {
      "text/plain": [
       "Index(['pixel0', 'pixel1', 'pixel2', 'pixel3', 'pixel4', 'pixel5', 'pixel6',\n",
       "       'pixel7', 'pixel8', 'pixel9',\n",
       "       ...\n",
       "       'pixel774', 'pixel775', 'pixel776', 'pixel777', 'pixel778', 'pixel779',\n",
       "       'pixel780', 'pixel781', 'pixel782', 'pixel783'],\n",
       "      dtype='object', length=784)"
      ]
     },
     "execution_count": 7,
     "metadata": {},
     "output_type": "execute_result"
    }
   ],
   "source": [
    "df_test.columns"
   ]
  },
  {
   "cell_type": "markdown",
   "metadata": {},
   "source": [
    "### Explore Train Dataset"
   ]
  },
  {
   "cell_type": "code",
   "execution_count": 8,
   "metadata": {
    "scrolled": false
   },
   "outputs": [
    {
     "data": {
      "text/plain": [
       "False"
      ]
     },
     "execution_count": 8,
     "metadata": {},
     "output_type": "execute_result"
    }
   ],
   "source": [
    "# no null values in train dataset\n",
    "\n",
    "df_train.isnull().values.any()"
   ]
  },
  {
   "cell_type": "code",
   "execution_count": 9,
   "metadata": {},
   "outputs": [
    {
     "name": "stdout",
     "output_type": "stream",
     "text": [
      "<class 'pandas.core.frame.DataFrame'>\n",
      "RangeIndex: 42000 entries, 0 to 41999\n",
      "Columns: 785 entries, label to pixel783\n",
      "dtypes: int64(785)\n",
      "memory usage: 251.5 MB\n"
     ]
    }
   ],
   "source": [
    "df_train.info()"
   ]
  },
  {
   "cell_type": "code",
   "execution_count": 10,
   "metadata": {
    "scrolled": false
   },
   "outputs": [
    {
     "name": "stdout",
     "output_type": "stream",
     "text": [
      "1    4684\n",
      "7    4401\n",
      "3    4351\n",
      "9    4188\n",
      "2    4177\n",
      "6    4137\n",
      "0    4132\n",
      "4    4072\n",
      "8    4063\n",
      "5    3795\n",
      "Name: label, dtype: int64\n"
     ]
    },
    {
     "data": {
      "text/plain": [
       "<matplotlib.axes._subplots.AxesSubplot at 0x1db26c71a90>"
      ]
     },
     "execution_count": 10,
     "metadata": {},
     "output_type": "execute_result"
    },
    {
     "data": {
      "image/png": "[encoded data removed]",
      "text/plain": [
       "<Figure size 432x288 with 1 Axes>"
      ]
     },
     "metadata": {
      "needs_background": "light"
     },
     "output_type": "display_data"
    }
   ],
   "source": [
    "# print the frequency of each label\n",
    "\n",
    "print(df_train['label'].value_counts())\n",
    "sns.countplot(df_train['label'])"
   ]
  },
  {
   "cell_type": "markdown",
   "metadata": {},
   "source": [
    "From train set, display few initial images and corresponding labels:"
   ]
  },
  {
   "cell_type": "code",
   "execution_count": 11,
   "metadata": {
    "scrolled": false
   },
   "outputs": [
    {
     "data": {
      "image/png": "[encoded data removed]",
      "text/plain": [
       "<Figure size 864x288 with 30 Axes>"
      ]
     },
     "metadata": {
      "needs_background": "light"
     },
     "output_type": "display_data"
    },
    {
     "name": "stdout",
     "output_type": "stream",
     "text": [
      "[1, 0, 1, 4, 0, 0, 7, 3, 5, 3]\n",
      "[8, 9, 1, 3, 3, 1, 2, 0, 7, 5]\n",
      "[8, 6, 2, 0, 2, 3, 6, 9, 9, 7]\n"
     ]
    }
   ],
   "source": [
    "plt.figure(figsize=(12,4))\n",
    "for i in range(30):  \n",
    "    plt.subplot(3, 10, i+1)\n",
    "    plt.imshow(df_train.drop(['label'],axis=1).values[i].reshape(28,28) )\n",
    "    plt.axis('off')\n",
    "plt.show()\n",
    "\n",
    "# print corresponding labels:\n",
    "print(list(df_train['label'].loc[0:9]))\n",
    "print(list(df_train['label'].loc[10:19]))\n",
    "print(list(df_train['label'].loc[20:29]))"
   ]
  },
  {
   "cell_type": "markdown",
   "metadata": {},
   "source": [
    "From test, display few initial images. Need to predict the lable for these. "
   ]
  },
  {
   "cell_type": "code",
   "execution_count": 12,
   "metadata": {},
   "outputs": [
    {
     "data": {
      "image/png": "[encoded data removed]",
      "text/plain": [
       "<Figure size 864x288 with 30 Axes>"
      ]
     },
     "metadata": {
      "needs_background": "light"
     },
     "output_type": "display_data"
    }
   ],
   "source": [
    "plt.figure(figsize=(12,4))\n",
    "for i in range(30):  \n",
    "    plt.subplot(3, 10, i+1)\n",
    "    plt.imshow(df_test.values[i].reshape(28,28) )\n",
    "    plt.axis('off')\n",
    "plt.show()"
   ]
  },
  {
   "cell_type": "markdown",
   "metadata": {},
   "source": [
    "# 3. keras model building\n",
    "\n",
    "Keras is a high-level neural networks API, written in Python and capable of running on top of TensorFlow, CNTK, or Theano. It was developed with a focus on enabling fast experimentation. \n",
    "\n",
    "Being able to go from idea to result with the least possible delay is key to doing good research.\n"
   ]
  },
  {
   "cell_type": "markdown",
   "metadata": {},
   "source": [
    "### Perform train-test split\n",
    "\n",
    "Train data set is divided in 80:20 ratio for train/test\n"
   ]
  },
  {
   "cell_type": "code",
   "execution_count": 13,
   "metadata": {},
   "outputs": [],
   "source": [
    "X_train, X_test, y_train, y_test = train_test_split(df_train.drop(['label'],axis=1),\n",
    "                                                   df_train['label'],\n",
    "                                                   test_size = 0.3,\n",
    "                                                   random_state=39)"
   ]
  },
  {
   "cell_type": "code",
   "execution_count": 14,
   "metadata": {},
   "outputs": [
    {
     "name": "stdout",
     "output_type": "stream",
     "text": [
      "(33600, 784)\n",
      "(33600,)\n",
      "(8400, 784)\n",
      "(8400,)\n"
     ]
    }
   ],
   "source": [
    "print(X_train.shape)\n",
    "print(y_train.shape)\n",
    "print(X_test.shape)\n",
    "print(y_test.shape)"
   ]
  },
  {
   "cell_type": "code",
   "execution_count": 15,
   "metadata": {},
   "outputs": [
    {
     "data": {
      "text/html": [
       "<div>\n",
       "<style scoped>\n",
       "    .dataframe tbody tr th:only-of-type {\n",
       "        vertical-align: middle;\n",
       "    }\n",
       "\n",
       "    .dataframe tbody tr th {\n",
       "        vertical-align: top;\n",
       "    }\n",
       "\n",
       "    .dataframe thead th {\n",
       "        text-align: right;\n",
       "    }\n",
       "</style>\n",
       "<table border=\"1\" class=\"dataframe\">\n",
       "  <thead>\n",
       "    <tr style=\"text-align: right;\">\n",
       "      <th></th>\n",
       "      <th>pixel0</th>\n",
       "      <th>pixel1</th>\n",
       "      <th>pixel2</th>\n",
       "      <th>pixel3</th>\n",
       "      <th>pixel4</th>\n",
       "      <th>pixel5</th>\n",
       "      <th>pixel6</th>\n",
       "      <th>pixel7</th>\n",
       "      <th>pixel8</th>\n",
       "      <th>pixel9</th>\n",
       "      <th>...</th>\n",
       "      <th>pixel774</th>\n",
       "      <th>pixel775</th>\n",
       "      <th>pixel776</th>\n",
       "      <th>pixel777</th>\n",
       "      <th>pixel778</th>\n",
       "      <th>pixel779</th>\n",
       "      <th>pixel780</th>\n",
       "      <th>pixel781</th>\n",
       "      <th>pixel782</th>\n",
       "      <th>pixel783</th>\n",
       "    </tr>\n",
       "  </thead>\n",
       "  <tbody>\n",
       "    <tr>\n",
       "      <th>7956</th>\n",
       "      <td>0</td>\n",
       "      <td>0</td>\n",
       "      <td>0</td>\n",
       "      <td>0</td>\n",
       "      <td>0</td>\n",
       "      <td>0</td>\n",
       "      <td>0</td>\n",
       "      <td>0</td>\n",
       "      <td>0</td>\n",
       "      <td>0</td>\n",
       "      <td>...</td>\n",
       "      <td>0</td>\n",
       "      <td>0</td>\n",
       "      <td>0</td>\n",
       "      <td>0</td>\n",
       "      <td>0</td>\n",
       "      <td>0</td>\n",
       "      <td>0</td>\n",
       "      <td>0</td>\n",
       "      <td>0</td>\n",
       "      <td>0</td>\n",
       "    </tr>\n",
       "    <tr>\n",
       "      <th>24975</th>\n",
       "      <td>0</td>\n",
       "      <td>0</td>\n",
       "      <td>0</td>\n",
       "      <td>0</td>\n",
       "      <td>0</td>\n",
       "      <td>0</td>\n",
       "      <td>0</td>\n",
       "      <td>0</td>\n",
       "      <td>0</td>\n",
       "      <td>0</td>\n",
       "      <td>...</td>\n",
       "      <td>0</td>\n",
       "      <td>0</td>\n",
       "      <td>0</td>\n",
       "      <td>0</td>\n",
       "      <td>0</td>\n",
       "      <td>0</td>\n",
       "      <td>0</td>\n",
       "      <td>0</td>\n",
       "      <td>0</td>\n",
       "      <td>0</td>\n",
       "    </tr>\n",
       "    <tr>\n",
       "      <th>15389</th>\n",
       "      <td>0</td>\n",
       "      <td>0</td>\n",
       "      <td>0</td>\n",
       "      <td>0</td>\n",
       "      <td>0</td>\n",
       "      <td>0</td>\n",
       "      <td>0</td>\n",
       "      <td>0</td>\n",
       "      <td>0</td>\n",
       "      <td>0</td>\n",
       "      <td>...</td>\n",
       "      <td>0</td>\n",
       "      <td>0</td>\n",
       "      <td>0</td>\n",
       "      <td>0</td>\n",
       "      <td>0</td>\n",
       "      <td>0</td>\n",
       "      <td>0</td>\n",
       "      <td>0</td>\n",
       "      <td>0</td>\n",
       "      <td>0</td>\n",
       "    </tr>\n",
       "    <tr>\n",
       "      <th>34581</th>\n",
       "      <td>0</td>\n",
       "      <td>0</td>\n",
       "      <td>0</td>\n",
       "      <td>0</td>\n",
       "      <td>0</td>\n",
       "      <td>0</td>\n",
       "      <td>0</td>\n",
       "      <td>0</td>\n",
       "      <td>0</td>\n",
       "      <td>0</td>\n",
       "      <td>...</td>\n",
       "      <td>0</td>\n",
       "      <td>0</td>\n",
       "      <td>0</td>\n",
       "      <td>0</td>\n",
       "      <td>0</td>\n",
       "      <td>0</td>\n",
       "      <td>0</td>\n",
       "      <td>0</td>\n",
       "      <td>0</td>\n",
       "      <td>0</td>\n",
       "    </tr>\n",
       "    <tr>\n",
       "      <th>13928</th>\n",
       "      <td>0</td>\n",
       "      <td>0</td>\n",
       "      <td>0</td>\n",
       "      <td>0</td>\n",
       "      <td>0</td>\n",
       "      <td>0</td>\n",
       "      <td>0</td>\n",
       "      <td>0</td>\n",
       "      <td>0</td>\n",
       "      <td>0</td>\n",
       "      <td>...</td>\n",
       "      <td>0</td>\n",
       "      <td>0</td>\n",
       "      <td>0</td>\n",
       "      <td>0</td>\n",
       "      <td>0</td>\n",
       "      <td>0</td>\n",
       "      <td>0</td>\n",
       "      <td>0</td>\n",
       "      <td>0</td>\n",
       "      <td>0</td>\n",
       "    </tr>\n",
       "  </tbody>\n",
       "</table>\n",
       "<p>5 rows × 784 columns</p>\n",
       "</div>"
      ],
      "text/plain": [
       "       pixel0  pixel1  pixel2  pixel3  pixel4  pixel5  pixel6  pixel7  pixel8  \\\n",
       "7956        0       0       0       0       0       0       0       0       0   \n",
       "24975       0       0       0       0       0       0       0       0       0   \n",
       "15389       0       0       0       0       0       0       0       0       0   \n",
       "34581       0       0       0       0       0       0       0       0       0   \n",
       "13928       0       0       0       0       0       0       0       0       0   \n",
       "\n",
       "       pixel9  ...  pixel774  pixel775  pixel776  pixel777  pixel778  \\\n",
       "7956        0  ...         0         0         0         0         0   \n",
       "24975       0  ...         0         0         0         0         0   \n",
       "15389       0  ...         0         0         0         0         0   \n",
       "34581       0  ...         0         0         0         0         0   \n",
       "13928       0  ...         0         0         0         0         0   \n",
       "\n",
       "       pixel779  pixel780  pixel781  pixel782  pixel783  \n",
       "7956          0         0         0         0         0  \n",
       "24975         0         0         0         0         0  \n",
       "15389         0         0         0         0         0  \n",
       "34581         0         0         0         0         0  \n",
       "13928         0         0         0         0         0  \n",
       "\n",
       "[5 rows x 784 columns]"
      ]
     },
     "execution_count": 15,
     "metadata": {},
     "output_type": "execute_result"
    }
   ],
   "source": [
    "X_train.head()"
   ]
  },
  {
   "cell_type": "code",
   "execution_count": 16,
   "metadata": {},
   "outputs": [
    {
     "data": {
      "text/plain": [
       "7956     5\n",
       "24975    0\n",
       "15389    9\n",
       "34581    5\n",
       "13928    5\n",
       "Name: label, dtype: int64"
      ]
     },
     "execution_count": 16,
     "metadata": {},
     "output_type": "execute_result"
    }
   ],
   "source": [
    "y_train.head()"
   ]
  },
  {
   "cell_type": "markdown",
   "metadata": {},
   "source": [
    "### keras Model\n",
    "\n"
   ]
  },
  {
   "cell_type": "code",
   "execution_count": 17,
   "metadata": {},
   "outputs": [
    {
     "name": "stdout",
     "output_type": "stream",
     "text": [
      "Number of input columns: 784\n",
      "Number of output features: 10\n"
     ]
    }
   ],
   "source": [
    "# y_train = keras.utils.to_categorical(y_train)\n",
    "# y_test = keras.utils.to_categorical(y_test)\n",
    "\n",
    "n_cols = X_train.shape[1]\n",
    "print(\"Number of input columns: {0}\".format(n_cols))\n",
    "\n",
    "n_features = len(y_train.unique())\n",
    "print(\"Number of output features: {0}\".format(n_features))\n"
   ]
  },
  {
   "cell_type": "code",
   "execution_count": 18,
   "metadata": {},
   "outputs": [],
   "source": [
    "# let's convert labels to categorical variable\n",
    "y_train = keras.utils.to_categorical(y_train, n_features)\n",
    "y_test = keras.utils.to_categorical(y_test, n_features)"
   ]
  },
  {
   "cell_type": "code",
   "execution_count": 19,
   "metadata": {},
   "outputs": [
    {
     "data": {
      "text/plain": [
       "(array([[0., 0., 0., ..., 0., 0., 0.],\n",
       "        [1., 0., 0., ..., 0., 0., 0.],\n",
       "        [0., 0., 0., ..., 0., 0., 1.],\n",
       "        ...,\n",
       "        [0., 0., 0., ..., 0., 0., 0.],\n",
       "        [0., 0., 0., ..., 0., 0., 0.],\n",
       "        [0., 0., 1., ..., 0., 0., 0.]], dtype=float32),\n",
       " array([[0., 0., 0., ..., 0., 0., 0.],\n",
       "        [0., 0., 0., ..., 0., 0., 0.],\n",
       "        [0., 0., 1., ..., 0., 0., 0.],\n",
       "        ...,\n",
       "        [0., 0., 0., ..., 0., 0., 0.],\n",
       "        [0., 0., 0., ..., 1., 0., 0.],\n",
       "        [0., 1., 0., ..., 0., 0., 0.]], dtype=float32))"
      ]
     },
     "execution_count": 19,
     "metadata": {},
     "output_type": "execute_result"
    }
   ],
   "source": [
    "y_train, y_test"
   ]
  },
  {
   "cell_type": "code",
   "execution_count": 20,
   "metadata": {},
   "outputs": [],
   "source": [
    "# Let's do the same with X variables. \n",
    "# data has pixels with max values of 255. So will divide values with 255 to scale the data\n",
    "X_train = X_train / 255\n",
    "X_test = X_test / 255"
   ]
  },
  {
   "cell_type": "code",
   "execution_count": 21,
   "metadata": {
    "scrolled": true
   },
   "outputs": [
    {
     "name": "stdout",
     "output_type": "stream",
     "text": [
      "WARNING:tensorflow:From C:\\Users\\yadav\\Anaconda3\\lib\\site-packages\\tensorflow\\python\\framework\\op_def_library.py:263: colocate_with (from tensorflow.python.framework.ops) is deprecated and will be removed in a future version.\n",
      "Instructions for updating:\n",
      "Colocations handled automatically by placer.\n",
      "WARNING:tensorflow:From C:\\Users\\yadav\\Anaconda3\\lib\\site-packages\\keras\\backend\\tensorflow_backend.py:3445: calling dropout (from tensorflow.python.ops.nn_ops) with keep_prob is deprecated and will be removed in a future version.\n",
      "Instructions for updating:\n",
      "Please use `rate` instead of `keep_prob`. Rate should be set to `rate = 1 - keep_prob`.\n",
      "_________________________________________________________________\n",
      "Layer (type)                 Output Shape              Param #   \n",
      "=================================================================\n",
      "dense_1 (Dense)              (None, 512)               401920    \n",
      "_________________________________________________________________\n",
      "dropout_1 (Dropout)          (None, 512)               0         \n",
      "_________________________________________________________________\n",
      "dense_2 (Dense)              (None, 256)               131328    \n",
      "_________________________________________________________________\n",
      "dropout_2 (Dropout)          (None, 256)               0         \n",
      "_________________________________________________________________\n",
      "dense_3 (Dense)              (None, 128)               32896     \n",
      "_________________________________________________________________\n",
      "dropout_3 (Dropout)          (None, 128)               0         \n",
      "_________________________________________________________________\n",
      "dense_4 (Dense)              (None, 10)                1290      \n",
      "=================================================================\n",
      "Total params: 567,434\n",
      "Trainable params: 567,434\n",
      "Non-trainable params: 0\n",
      "_________________________________________________________________\n"
     ]
    }
   ],
   "source": [
    "from keras.models import Sequential\n",
    "from keras.layers import Dense, Dropout\n",
    "from keras.optimizers import RMSprop\n",
    "from keras.optimizers import SGD\n",
    "\n",
    "m = Sequential()\n",
    "m.add(Dense(512,activation='relu',input_shape=(n_cols,)))\n",
    "m.add(Dropout(0.2))\n",
    "m.add(Dense(256,activation='relu'))\n",
    "m.add(Dropout(0.2))\n",
    "m.add(Dense(128,activation='relu'))\n",
    "m.add(Dropout(0.2))\n",
    "m.add(Dense(n_features,activation='softmax'))\n",
    "\n",
    "m.summary()"
   ]
  },
  {
   "cell_type": "code",
   "execution_count": 22,
   "metadata": {},
   "outputs": [],
   "source": [
    "m.compile(optimizer='adam',loss='categorical_crossentropy',metrics=['accuracy'])\n",
    "#m.compile(optimizer=RMSprop(),loss='categorical_crossentropy',metrics=['accuracy'])\n",
    "#m.compile(optimizer=SGD(),loss='categorical_crossentropy',metrics=['accuracy'])\n"
   ]
  },
  {
   "cell_type": "code",
   "execution_count": 23,
   "metadata": {
    "scrolled": true
   },
   "outputs": [
    {
     "name": "stdout",
     "output_type": "stream",
     "text": [
      "WARNING:tensorflow:From C:\\Users\\yadav\\Anaconda3\\lib\\site-packages\\tensorflow\\python\\ops\\math_ops.py:3066: to_int32 (from tensorflow.python.ops.math_ops) is deprecated and will be removed in a future version.\n",
      "Instructions for updating:\n",
      "Use tf.cast instead.\n",
      "Train on 33600 samples, validate on 8400 samples\n",
      "Epoch 1/200\n",
      "33600/33600 [==============================] - 4s 131us/step - loss: 0.5008 - acc: 0.8437 - val_loss: 0.1771 - val_acc: 0.9474\n",
      "Epoch 2/200\n",
      "33600/33600 [==============================] - 4s 112us/step - loss: 0.1723 - acc: 0.9484 - val_loss: 0.1359 - val_acc: 0.9587\n",
      "Epoch 3/200\n",
      "33600/33600 [==============================] - 4s 107us/step - loss: 0.1213 - acc: 0.9628 - val_loss: 0.1078 - val_acc: 0.9704\n",
      "Epoch 4/200\n",
      "33600/33600 [==============================] - 4s 109us/step - loss: 0.0891 - acc: 0.9724 - val_loss: 0.0913 - val_acc: 0.9751\n",
      "Epoch 5/200\n",
      "33600/33600 [==============================] - 4s 107us/step - loss: 0.0700 - acc: 0.9776 - val_loss: 0.0937 - val_acc: 0.9724\n",
      "Epoch 6/200\n",
      "33600/33600 [==============================] - 4s 127us/step - loss: 0.0557 - acc: 0.9819 - val_loss: 0.1074 - val_acc: 0.9717\n",
      "Epoch 7/200\n",
      "33600/33600 [==============================] - 4s 117us/step - loss: 0.0492 - acc: 0.9840 - val_loss: 0.0931 - val_acc: 0.9735\n",
      "Epoch 8/200\n",
      "33600/33600 [==============================] - 4s 121us/step - loss: 0.0385 - acc: 0.9872 - val_loss: 0.1029 - val_acc: 0.9733\n",
      "Epoch 9/200\n",
      "33600/33600 [==============================] - 4s 112us/step - loss: 0.0391 - acc: 0.9874 - val_loss: 0.0927 - val_acc: 0.9770\n",
      "Epoch 10/200\n",
      "33600/33600 [==============================] - 4s 126us/step - loss: 0.0295 - acc: 0.9911 - val_loss: 0.0979 - val_acc: 0.9763\n",
      "Epoch 11/200\n",
      "33600/33600 [==============================] - 4s 107us/step - loss: 0.0269 - acc: 0.9910 - val_loss: 0.0997 - val_acc: 0.9775\n",
      "Epoch 12/200\n",
      "33600/33600 [==============================] - 4s 119us/step - loss: 0.0275 - acc: 0.9913 - val_loss: 0.1007 - val_acc: 0.9765\n",
      "Epoch 13/200\n",
      "33600/33600 [==============================] - 4s 107us/step - loss: 0.0265 - acc: 0.9908 - val_loss: 0.0918 - val_acc: 0.9788\n",
      "Epoch 14/200\n",
      "33600/33600 [==============================] - 4s 107us/step - loss: 0.0206 - acc: 0.9931 - val_loss: 0.1046 - val_acc: 0.9776\n",
      "Epoch 15/200\n",
      "33600/33600 [==============================] - 4s 107us/step - loss: 0.0190 - acc: 0.9941 - val_loss: 0.1053 - val_acc: 0.9761\n",
      "Epoch 16/200\n",
      "33600/33600 [==============================] - 4s 110us/step - loss: 0.0171 - acc: 0.9943 - val_loss: 0.1169 - val_acc: 0.9758\n",
      "Epoch 17/200\n",
      "33600/33600 [==============================] - 4s 108us/step - loss: 0.0211 - acc: 0.9930 - val_loss: 0.0994 - val_acc: 0.9788\n",
      "Epoch 18/200\n",
      "33600/33600 [==============================] - 4s 106us/step - loss: 0.0161 - acc: 0.9951 - val_loss: 0.0991 - val_acc: 0.9781\n",
      "Epoch 19/200\n",
      "33600/33600 [==============================] - 4s 107us/step - loss: 0.0143 - acc: 0.9951 - val_loss: 0.1125 - val_acc: 0.9771\n",
      "Epoch 20/200\n",
      "33600/33600 [==============================] - 4s 107us/step - loss: 0.0155 - acc: 0.9951 - val_loss: 0.1134 - val_acc: 0.9777\n",
      "Epoch 21/200\n",
      "33600/33600 [==============================] - 4s 109us/step - loss: 0.0172 - acc: 0.9940 - val_loss: 0.1142 - val_acc: 0.9775\n",
      "Epoch 22/200\n",
      "33600/33600 [==============================] - 4s 106us/step - loss: 0.0154 - acc: 0.9957 - val_loss: 0.1009 - val_acc: 0.9786\n",
      "Epoch 23/200\n",
      "33600/33600 [==============================] - 4s 107us/step - loss: 0.0149 - acc: 0.9948 - val_loss: 0.1002 - val_acc: 0.9804\n",
      "Epoch 24/200\n",
      "33600/33600 [==============================] - 4s 107us/step - loss: 0.0140 - acc: 0.9956 - val_loss: 0.1065 - val_acc: 0.9779\n",
      "Epoch 25/200\n",
      "33600/33600 [==============================] - 4s 118us/step - loss: 0.0103 - acc: 0.9963 - val_loss: 0.1192 - val_acc: 0.9775\n",
      "Epoch 26/200\n",
      "33600/33600 [==============================] - 4s 123us/step - loss: 0.0144 - acc: 0.9960 - val_loss: 0.1044 - val_acc: 0.9779\n",
      "Epoch 27/200\n",
      "33600/33600 [==============================] - 4s 113us/step - loss: 0.0128 - acc: 0.9960 - val_loss: 0.1270 - val_acc: 0.9760\n",
      "Epoch 28/200\n",
      "33600/33600 [==============================] - 4s 110us/step - loss: 0.0139 - acc: 0.9953 - val_loss: 0.1142 - val_acc: 0.9767\n",
      "Epoch 29/200\n",
      "33600/33600 [==============================] - 4s 119us/step - loss: 0.0141 - acc: 0.9954 - val_loss: 0.1205 - val_acc: 0.9783\n",
      "Epoch 30/200\n",
      "33600/33600 [==============================] - 4s 107us/step - loss: 0.0130 - acc: 0.9958 - val_loss: 0.1134 - val_acc: 0.9779\n",
      "Epoch 31/200\n",
      "33600/33600 [==============================] - 4s 106us/step - loss: 0.0115 - acc: 0.9961 - val_loss: 0.1123 - val_acc: 0.9779\n",
      "Epoch 32/200\n",
      "33600/33600 [==============================] - 4s 108us/step - loss: 0.0092 - acc: 0.9971 - val_loss: 0.1138 - val_acc: 0.9798\n",
      "Epoch 33/200\n",
      "33600/33600 [==============================] - 4s 109us/step - loss: 0.0081 - acc: 0.9974 - val_loss: 0.1123 - val_acc: 0.9800\n",
      "Epoch 34/200\n",
      "33600/33600 [==============================] - 4s 109us/step - loss: 0.0116 - acc: 0.9964 - val_loss: 0.1176 - val_acc: 0.9781\n",
      "Epoch 35/200\n",
      "33600/33600 [==============================] - 4s 108us/step - loss: 0.0140 - acc: 0.9954 - val_loss: 0.1288 - val_acc: 0.9787\n",
      "Epoch 36/200\n",
      "33600/33600 [==============================] - 4s 107us/step - loss: 0.0133 - acc: 0.9957 - val_loss: 0.1175 - val_acc: 0.9779\n",
      "Epoch 37/200\n",
      "33600/33600 [==============================] - 4s 109us/step - loss: 0.0086 - acc: 0.9974 - val_loss: 0.1177 - val_acc: 0.9796\n",
      "Epoch 38/200\n",
      "33600/33600 [==============================] - 4s 110us/step - loss: 0.0076 - acc: 0.9975 - val_loss: 0.1166 - val_acc: 0.9795\n",
      "Epoch 39/200\n",
      "33600/33600 [==============================] - 4s 106us/step - loss: 0.0092 - acc: 0.9968 - val_loss: 0.1328 - val_acc: 0.9771\n",
      "Epoch 40/200\n",
      "33600/33600 [==============================] - 4s 106us/step - loss: 0.0104 - acc: 0.9967 - val_loss: 0.1233 - val_acc: 0.9763\n",
      "Epoch 41/200\n",
      "33600/33600 [==============================] - 4s 106us/step - loss: 0.0072 - acc: 0.9976 - val_loss: 0.1373 - val_acc: 0.9771\n",
      "Epoch 42/200\n",
      "33600/33600 [==============================] - 4s 113us/step - loss: 0.0110 - acc: 0.9965 - val_loss: 0.1182 - val_acc: 0.9782\n",
      "Epoch 43/200\n",
      "33600/33600 [==============================] - 4s 108us/step - loss: 0.0082 - acc: 0.9973 - val_loss: 0.1220 - val_acc: 0.9792\n",
      "Epoch 44/200\n",
      "33600/33600 [==============================] - 4s 110us/step - loss: 0.0102 - acc: 0.9970 - val_loss: 0.1217 - val_acc: 0.9794\n",
      "Epoch 45/200\n",
      "33600/33600 [==============================] - 4s 107us/step - loss: 0.0073 - acc: 0.9979 - val_loss: 0.1200 - val_acc: 0.9775\n",
      "Epoch 46/200\n",
      "33600/33600 [==============================] - 4s 107us/step - loss: 0.0080 - acc: 0.9973 - val_loss: 0.1209 - val_acc: 0.9800\n",
      "Epoch 47/200\n",
      "33600/33600 [==============================] - 4s 110us/step - loss: 0.0099 - acc: 0.9973 - val_loss: 0.1077 - val_acc: 0.9806\n",
      "Epoch 48/200\n",
      "33600/33600 [==============================] - 4s 107us/step - loss: 0.0071 - acc: 0.9978 - val_loss: 0.1240 - val_acc: 0.9789\n",
      "Epoch 49/200\n",
      "33600/33600 [==============================] - 4s 108us/step - loss: 0.0077 - acc: 0.9975 - val_loss: 0.1262 - val_acc: 0.9785\n",
      "Epoch 50/200\n",
      "33600/33600 [==============================] - 4s 107us/step - loss: 0.0080 - acc: 0.9975 - val_loss: 0.1282 - val_acc: 0.9783\n",
      "Epoch 51/200\n",
      "33600/33600 [==============================] - 4s 111us/step - loss: 0.0089 - acc: 0.9972 - val_loss: 0.1415 - val_acc: 0.9767\n",
      "Epoch 52/200\n",
      "33600/33600 [==============================] - 4s 106us/step - loss: 0.0117 - acc: 0.9963 - val_loss: 0.1240 - val_acc: 0.9793\n",
      "Epoch 53/200\n",
      "33600/33600 [==============================] - 4s 106us/step - loss: 0.0081 - acc: 0.9974 - val_loss: 0.1239 - val_acc: 0.9781\n",
      "Epoch 54/200\n",
      "33600/33600 [==============================] - 4s 108us/step - loss: 0.0085 - acc: 0.9974 - val_loss: 0.1201 - val_acc: 0.9807\n",
      "Epoch 55/200\n",
      "33600/33600 [==============================] - 4s 109us/step - loss: 0.0046 - acc: 0.9987 - val_loss: 0.1231 - val_acc: 0.9790\n",
      "Epoch 56/200\n",
      "33600/33600 [==============================] - 4s 108us/step - loss: 0.0056 - acc: 0.9985 - val_loss: 0.1439 - val_acc: 0.9776\n",
      "Epoch 57/200\n"
     ]
    },
    {
     "name": "stdout",
     "output_type": "stream",
     "text": [
      "33600/33600 [==============================] - 4s 108us/step - loss: 0.0042 - acc: 0.9985 - val_loss: 0.1398 - val_acc: 0.9795\n",
      "Epoch 58/200\n",
      "33600/33600 [==============================] - 4s 106us/step - loss: 0.0118 - acc: 0.9964 - val_loss: 0.1254 - val_acc: 0.9782\n",
      "Epoch 59/200\n",
      "33600/33600 [==============================] - 4s 107us/step - loss: 0.0130 - acc: 0.9963 - val_loss: 0.1360 - val_acc: 0.9768\n",
      "Epoch 60/200\n",
      "33600/33600 [==============================] - 4s 109us/step - loss: 0.0086 - acc: 0.9974 - val_loss: 0.1263 - val_acc: 0.9775\n",
      "Epoch 61/200\n",
      "33600/33600 [==============================] - 4s 107us/step - loss: 0.0045 - acc: 0.9983 - val_loss: 0.1396 - val_acc: 0.9792\n",
      "Epoch 62/200\n",
      "33600/33600 [==============================] - 4s 106us/step - loss: 0.0063 - acc: 0.9983 - val_loss: 0.1204 - val_acc: 0.9807\n",
      "Epoch 63/200\n",
      "33600/33600 [==============================] - 4s 107us/step - loss: 0.0082 - acc: 0.9976 - val_loss: 0.1311 - val_acc: 0.9799\n",
      "Epoch 64/200\n",
      "33600/33600 [==============================] - 4s 109us/step - loss: 0.0075 - acc: 0.9979 - val_loss: 0.1350 - val_acc: 0.9794\n",
      "Epoch 65/200\n",
      "33600/33600 [==============================] - 4s 109us/step - loss: 0.0096 - acc: 0.9970 - val_loss: 0.1296 - val_acc: 0.9780\n",
      "Epoch 66/200\n",
      "33600/33600 [==============================] - 4s 107us/step - loss: 0.0065 - acc: 0.9979 - val_loss: 0.1305 - val_acc: 0.9799\n",
      "Epoch 67/200\n",
      "33600/33600 [==============================] - 4s 108us/step - loss: 0.0050 - acc: 0.9983 - val_loss: 0.1213 - val_acc: 0.9787\n",
      "Epoch 68/200\n",
      "33600/33600 [==============================] - 4s 106us/step - loss: 0.0059 - acc: 0.9984 - val_loss: 0.1343 - val_acc: 0.9794\n",
      "Epoch 69/200\n",
      "33600/33600 [==============================] - 4s 110us/step - loss: 0.0039 - acc: 0.9987 - val_loss: 0.1481 - val_acc: 0.9785\n",
      "Epoch 70/200\n",
      "33600/33600 [==============================] - 4s 107us/step - loss: 0.0058 - acc: 0.9984 - val_loss: 0.1277 - val_acc: 0.9787\n",
      "Epoch 71/200\n",
      "33600/33600 [==============================] - 4s 107us/step - loss: 0.0045 - acc: 0.9988 - val_loss: 0.1227 - val_acc: 0.9805\n",
      "Epoch 72/200\n",
      "33600/33600 [==============================] - 4s 106us/step - loss: 0.0064 - acc: 0.9979 - val_loss: 0.1428 - val_acc: 0.9775\n",
      "Epoch 73/200\n",
      "33600/33600 [==============================] - 4s 110us/step - loss: 0.0074 - acc: 0.9976 - val_loss: 0.1270 - val_acc: 0.9796\n",
      "Epoch 74/200\n",
      "33600/33600 [==============================] - 4s 107us/step - loss: 0.0061 - acc: 0.9982 - val_loss: 0.1293 - val_acc: 0.98021s - loss\n",
      "Epoch 75/200\n",
      "33600/33600 [==============================] - 4s 106us/step - loss: 0.0095 - acc: 0.9971 - val_loss: 0.1335 - val_acc: 0.9795\n",
      "Epoch 76/200\n",
      "33600/33600 [==============================] - 4s 118us/step - loss: 0.0085 - acc: 0.9973 - val_loss: 0.1194 - val_acc: 0.9793\n",
      "Epoch 77/200\n",
      "33600/33600 [==============================] - 4s 112us/step - loss: 0.0045 - acc: 0.9987 - val_loss: 0.1294 - val_acc: 0.9811\n",
      "Epoch 78/200\n",
      "33600/33600 [==============================] - 4s 116us/step - loss: 0.0047 - acc: 0.9985 - val_loss: 0.1369 - val_acc: 0.9788\n",
      "Epoch 79/200\n",
      "33600/33600 [==============================] - 4s 106us/step - loss: 0.0064 - acc: 0.9983 - val_loss: 0.1342 - val_acc: 0.9799\n",
      "Epoch 80/200\n",
      "33600/33600 [==============================] - 4s 105us/step - loss: 0.0038 - acc: 0.9988 - val_loss: 0.1386 - val_acc: 0.9804\n",
      "Epoch 81/200\n",
      "33600/33600 [==============================] - 4s 106us/step - loss: 0.0089 - acc: 0.9972 - val_loss: 0.1412 - val_acc: 0.9787\n",
      "Epoch 82/200\n",
      "33600/33600 [==============================] - 4s 110us/step - loss: 0.0075 - acc: 0.9976 - val_loss: 0.1502 - val_acc: 0.9789\n",
      "Epoch 83/200\n",
      "33600/33600 [==============================] - 4s 123us/step - loss: 0.0095 - acc: 0.9975 - val_loss: 0.1255 - val_acc: 0.9810\n",
      "Epoch 84/200\n",
      "33600/33600 [==============================] - 4s 118us/step - loss: 0.0028 - acc: 0.9991 - val_loss: 0.1335 - val_acc: 0.9800\n",
      "Epoch 85/200\n",
      "33600/33600 [==============================] - 4s 108us/step - loss: 0.0080 - acc: 0.9977 - val_loss: 0.1367 - val_acc: 0.9782\n",
      "Epoch 86/200\n",
      "33600/33600 [==============================] - 4s 108us/step - loss: 0.0026 - acc: 0.9990 - val_loss: 0.1401 - val_acc: 0.9788\n",
      "Epoch 87/200\n",
      "33600/33600 [==============================] - 5s 143us/step - loss: 0.0045 - acc: 0.9986 - val_loss: 0.1405 - val_acc: 0.9787\n",
      "Epoch 88/200\n",
      "33600/33600 [==============================] - 5s 143us/step - loss: 0.0054 - acc: 0.9981 - val_loss: 0.1438 - val_acc: 0.9783\n",
      "Epoch 89/200\n",
      "33600/33600 [==============================] - 5s 152us/step - loss: 0.0034 - acc: 0.9989 - val_loss: 0.1497 - val_acc: 0.9789\n",
      "Epoch 90/200\n",
      "33600/33600 [==============================] - 6s 177us/step - loss: 0.0043 - acc: 0.9990 - val_loss: 0.1440 - val_acc: 0.9794\n",
      "Epoch 91/200\n",
      "33600/33600 [==============================] - 4s 121us/step - loss: 0.0062 - acc: 0.9984 - val_loss: 0.1479 - val_acc: 0.9788\n",
      "Epoch 92/200\n",
      "33600/33600 [==============================] - 4s 106us/step - loss: 0.0090 - acc: 0.9975 - val_loss: 0.1454 - val_acc: 0.9783\n",
      "Epoch 93/200\n",
      "33600/33600 [==============================] - 4s 132us/step - loss: 0.0073 - acc: 0.9978 - val_loss: 0.1331 - val_acc: 0.9804\n",
      "Epoch 94/200\n",
      "33600/33600 [==============================] - 4s 112us/step - loss: 0.0063 - acc: 0.9983 - val_loss: 0.1314 - val_acc: 0.9815\n",
      "Epoch 95/200\n",
      "33600/33600 [==============================] - 4s 106us/step - loss: 0.0050 - acc: 0.9985 - val_loss: 0.1378 - val_acc: 0.9792\n",
      "Epoch 96/200\n",
      "33600/33600 [==============================] - 4s 107us/step - loss: 0.0053 - acc: 0.9985 - val_loss: 0.1486 - val_acc: 0.9792\n",
      "Epoch 97/200\n",
      "33600/33600 [==============================] - 4s 108us/step - loss: 0.0079 - acc: 0.9980 - val_loss: 0.1302 - val_acc: 0.9796\n",
      "Epoch 98/200\n",
      "33600/33600 [==============================] - 4s 107us/step - loss: 0.0058 - acc: 0.9983 - val_loss: 0.1383 - val_acc: 0.9787\n",
      "Epoch 99/200\n",
      "33600/33600 [==============================] - 4s 107us/step - loss: 0.0054 - acc: 0.9985 - val_loss: 0.1361 - val_acc: 0.9796\n",
      "Epoch 100/200\n",
      "33600/33600 [==============================] - 4s 120us/step - loss: 0.0068 - acc: 0.9981 - val_loss: 0.1319 - val_acc: 0.9796\n",
      "Epoch 101/200\n",
      "33600/33600 [==============================] - 6s 165us/step - loss: 0.0044 - acc: 0.9989 - val_loss: 0.1384 - val_acc: 0.9799\n",
      "Epoch 102/200\n",
      "33600/33600 [==============================] - 5s 144us/step - loss: 0.0072 - acc: 0.9982 - val_loss: 0.1332 - val_acc: 0.9787\n",
      "Epoch 103/200\n",
      "33600/33600 [==============================] - 4s 132us/step - loss: 0.0044 - acc: 0.9985 - val_loss: 0.1427 - val_acc: 0.9783\n",
      "Epoch 104/200\n",
      "33600/33600 [==============================] - 5s 152us/step - loss: 0.0050 - acc: 0.9985 - val_loss: 0.1380 - val_acc: 0.9806\n",
      "Epoch 105/200\n",
      "33600/33600 [==============================] - 4s 110us/step - loss: 0.0037 - acc: 0.9989 - val_loss: 0.1533 - val_acc: 0.9789\n",
      "Epoch 106/200\n",
      "33600/33600 [==============================] - 4s 108us/step - loss: 0.0054 - acc: 0.9983 - val_loss: 0.1491 - val_acc: 0.9771\n",
      "Epoch 107/200\n",
      "33600/33600 [==============================] - 4s 109us/step - loss: 0.0065 - acc: 0.9985 - val_loss: 0.1460 - val_acc: 0.9795\n",
      "Epoch 108/200\n",
      "33600/33600 [==============================] - 4s 107us/step - loss: 0.0059 - acc: 0.9982 - val_loss: 0.1546 - val_acc: 0.9775\n",
      "Epoch 109/200\n",
      "33600/33600 [==============================] - 4s 110us/step - loss: 0.0053 - acc: 0.9987 - val_loss: 0.1415 - val_acc: 0.9798\n",
      "Epoch 110/200\n",
      "33600/33600 [==============================] - 4s 107us/step - loss: 0.0060 - acc: 0.9982 - val_loss: 0.1477 - val_acc: 0.9794\n",
      "Epoch 111/200\n",
      "33600/33600 [==============================] - 4s 106us/step - loss: 0.0050 - acc: 0.9986 - val_loss: 0.1360 - val_acc: 0.9799\n",
      "Epoch 112/200\n",
      "33600/33600 [==============================] - 4s 107us/step - loss: 0.0042 - acc: 0.9989 - val_loss: 0.1516 - val_acc: 0.9805\n",
      "Epoch 113/200\n",
      "33600/33600 [==============================] - 4s 111us/step - loss: 0.0047 - acc: 0.9986 - val_loss: 0.1427 - val_acc: 0.9812\n",
      "Epoch 114/200\n",
      "33600/33600 [==============================] - 5s 146us/step - loss: 0.0055 - acc: 0.9983 - val_loss: 0.1400 - val_acc: 0.9813\n",
      "Epoch 115/200\n"
     ]
    },
    {
     "name": "stdout",
     "output_type": "stream",
     "text": [
      "33600/33600 [==============================] - 5s 145us/step - loss: 0.0046 - acc: 0.9986 - val_loss: 0.1393 - val_acc: 0.9815\n",
      "Epoch 116/200\n",
      "33600/33600 [==============================] - 5s 144us/step - loss: 0.0041 - acc: 0.9988 - val_loss: 0.1476 - val_acc: 0.9789\n",
      "Epoch 117/200\n",
      "33600/33600 [==============================] - 5s 159us/step - loss: 0.0044 - acc: 0.9986 - val_loss: 0.1388 - val_acc: 0.9788\n",
      "Epoch 118/200\n",
      "33600/33600 [==============================] - 5s 158us/step - loss: 0.0047 - acc: 0.9984 - val_loss: 0.1322 - val_acc: 0.9800\n",
      "Epoch 119/200\n",
      "33600/33600 [==============================] - 4s 108us/step - loss: 0.0032 - acc: 0.9992 - val_loss: 0.1476 - val_acc: 0.9782\n",
      "Epoch 120/200\n",
      "33600/33600 [==============================] - 4s 111us/step - loss: 0.0058 - acc: 0.9986 - val_loss: 0.1433 - val_acc: 0.9783\n",
      "Epoch 121/200\n",
      "33600/33600 [==============================] - 4s 109us/step - loss: 0.0037 - acc: 0.9987 - val_loss: 0.1476 - val_acc: 0.9800\n",
      "Epoch 122/200\n",
      "33600/33600 [==============================] - 4s 113us/step - loss: 0.0051 - acc: 0.9984 - val_loss: 0.1439 - val_acc: 0.9796\n",
      "Epoch 123/200\n",
      "33600/33600 [==============================] - 4s 112us/step - loss: 0.0065 - acc: 0.9982 - val_loss: 0.1418 - val_acc: 0.9782\n",
      "Epoch 124/200\n",
      "33600/33600 [==============================] - 4s 110us/step - loss: 0.0056 - acc: 0.9985 - val_loss: 0.1415 - val_acc: 0.9789\n",
      "Epoch 125/200\n",
      "33600/33600 [==============================] - 4s 108us/step - loss: 0.0051 - acc: 0.9985 - val_loss: 0.1438 - val_acc: 0.9801\n",
      "Epoch 126/200\n",
      "33600/33600 [==============================] - 4s 107us/step - loss: 0.0026 - acc: 0.9994 - val_loss: 0.1424 - val_acc: 0.9805\n",
      "Epoch 127/200\n",
      "33600/33600 [==============================] - 4s 108us/step - loss: 0.0042 - acc: 0.9988 - val_loss: 0.1487 - val_acc: 0.9789\n",
      "Epoch 128/200\n",
      "33600/33600 [==============================] - 4s 107us/step - loss: 0.0037 - acc: 0.9989 - val_loss: 0.1433 - val_acc: 0.9808\n",
      "Epoch 129/200\n",
      "33600/33600 [==============================] - 4s 113us/step - loss: 0.0030 - acc: 0.9990 - val_loss: 0.1527 - val_acc: 0.9800\n",
      "Epoch 130/200\n",
      "33600/33600 [==============================] - 5s 145us/step - loss: 0.0038 - acc: 0.9990 - val_loss: 0.1401 - val_acc: 0.9802\n",
      "Epoch 131/200\n",
      "33600/33600 [==============================] - 5s 145us/step - loss: 0.0030 - acc: 0.9992 - val_loss: 0.1511 - val_acc: 0.9786\n",
      "Epoch 132/200\n",
      "33600/33600 [==============================] - 5s 147us/step - loss: 0.0032 - acc: 0.9991 - val_loss: 0.1486 - val_acc: 0.9795 1s - \n",
      "Epoch 133/200\n",
      "33600/33600 [==============================] - 5s 143us/step - loss: 0.0036 - acc: 0.9987 - val_loss: 0.1538 - val_acc: 0.9780\n",
      "Epoch 134/200\n",
      "33600/33600 [==============================] - 5s 135us/step - loss: 0.0056 - acc: 0.9984 - val_loss: 0.1588 - val_acc: 0.9789\n",
      "Epoch 135/200\n",
      "33600/33600 [==============================] - 4s 105us/step - loss: 0.0055 - acc: 0.9981 - val_loss: 0.1675 - val_acc: 0.9769\n",
      "Epoch 136/200\n",
      "33600/33600 [==============================] - 4s 108us/step - loss: 0.0044 - acc: 0.9986 - val_loss: 0.1567 - val_acc: 0.9779\n",
      "Epoch 137/200\n",
      "33600/33600 [==============================] - 4s 105us/step - loss: 0.0038 - acc: 0.9989 - val_loss: 0.1567 - val_acc: 0.9775\n",
      "Epoch 138/200\n",
      "33600/33600 [==============================] - 4s 106us/step - loss: 0.0047 - acc: 0.9988 - val_loss: 0.1459 - val_acc: 0.9794\n",
      "Epoch 139/200\n",
      "33600/33600 [==============================] - 4s 106us/step - loss: 0.0032 - acc: 0.9987 - val_loss: 0.1406 - val_acc: 0.9812\n",
      "Epoch 140/200\n",
      "33600/33600 [==============================] - 4s 107us/step - loss: 0.0049 - acc: 0.9987 - val_loss: 0.1483 - val_acc: 0.9805\n",
      "Epoch 141/200\n",
      "33600/33600 [==============================] - 4s 107us/step - loss: 0.0028 - acc: 0.9990 - val_loss: 0.1551 - val_acc: 0.9802\n",
      "Epoch 142/200\n",
      "33600/33600 [==============================] - 4s 106us/step - loss: 0.0060 - acc: 0.9981 - val_loss: 0.1521 - val_acc: 0.9808\n",
      "Epoch 143/200\n",
      "33600/33600 [==============================] - 4s 105us/step - loss: 0.0040 - acc: 0.9987 - val_loss: 0.1530 - val_acc: 0.9801: 0s - loss: 0.0038 - ac\n",
      "Epoch 144/200\n",
      "33600/33600 [==============================] - 4s 104us/step - loss: 0.0046 - acc: 0.9988 - val_loss: 0.1494 - val_acc: 0.9798\n",
      "Epoch 145/200\n",
      "33600/33600 [==============================] - 4s 109us/step - loss: 0.0040 - acc: 0.9988 - val_loss: 0.1345 - val_acc: 0.9815\n",
      "Epoch 146/200\n",
      "33600/33600 [==============================] - 4s 108us/step - loss: 0.0043 - acc: 0.9987 - val_loss: 0.1397 - val_acc: 0.9813\n",
      "Epoch 147/200\n",
      "33600/33600 [==============================] - 4s 106us/step - loss: 0.0025 - acc: 0.9993 - val_loss: 0.1480 - val_acc: 0.9818\n",
      "Epoch 148/200\n",
      "33600/33600 [==============================] - 4s 109us/step - loss: 0.0044 - acc: 0.9989 - val_loss: 0.1359 - val_acc: 0.9812\n",
      "Epoch 149/200\n",
      "33600/33600 [==============================] - 4s 120us/step - loss: 0.0022 - acc: 0.9991 - val_loss: 0.1390 - val_acc: 0.9821\n",
      "Epoch 150/200\n",
      "33600/33600 [==============================] - 5s 150us/step - loss: 0.0029 - acc: 0.9990 - val_loss: 0.1489 - val_acc: 0.9800\n",
      "Epoch 151/200\n",
      "33600/33600 [==============================] - 5s 144us/step - loss: 0.0033 - acc: 0.9990 - val_loss: 0.1494 - val_acc: 0.9799\n",
      "Epoch 152/200\n",
      "33600/33600 [==============================] - 5s 154us/step - loss: 0.0058 - acc: 0.9985 - val_loss: 0.1368 - val_acc: 0.9801\n",
      "Epoch 153/200\n",
      "33600/33600 [==============================] - 5s 154us/step - loss: 0.0041 - acc: 0.9987 - val_loss: 0.1349 - val_acc: 0.9804\n",
      "Epoch 154/200\n",
      "33600/33600 [==============================] - 5s 160us/step - loss: 0.0029 - acc: 0.9994 - val_loss: 0.1378 - val_acc: 0.9804: 1s - loss: 0.\n",
      "Epoch 155/200\n",
      "33600/33600 [==============================] - 5s 146us/step - loss: 0.0031 - acc: 0.9988 - val_loss: 0.1536 - val_acc: 0.9800\n",
      "Epoch 156/200\n",
      "33600/33600 [==============================] - 5s 144us/step - loss: 0.0050 - acc: 0.9987 - val_loss: 0.1350 - val_acc: 0.9812\n",
      "Epoch 157/200\n",
      "33600/33600 [==============================] - 4s 107us/step - loss: 0.0048 - acc: 0.9986 - val_loss: 0.1362 - val_acc: 0.9814\n",
      "Epoch 158/200\n",
      "33600/33600 [==============================] - 4s 117us/step - loss: 0.0047 - acc: 0.9986 - val_loss: 0.1390 - val_acc: 0.9810\n",
      "Epoch 159/200\n",
      "33600/33600 [==============================] - 5s 138us/step - loss: 0.0043 - acc: 0.9988 - val_loss: 0.1512 - val_acc: 0.9787\n",
      "Epoch 160/200\n",
      "33600/33600 [==============================] - 4s 134us/step - loss: 0.0050 - acc: 0.9987 - val_loss: 0.1531 - val_acc: 0.9806\n",
      "Epoch 161/200\n",
      "33600/33600 [==============================] - 4s 127us/step - loss: 0.0039 - acc: 0.9989 - val_loss: 0.1627 - val_acc: 0.9792\n",
      "Epoch 162/200\n",
      "33600/33600 [==============================] - 4s 105us/step - loss: 0.0051 - acc: 0.9985 - val_loss: 0.1637 - val_acc: 0.9802\n",
      "Epoch 163/200\n",
      "33600/33600 [==============================] - 4s 110us/step - loss: 0.0061 - acc: 0.9987 - val_loss: 0.1435 - val_acc: 0.9810\n",
      "Epoch 164/200\n",
      "33600/33600 [==============================] - 5s 142us/step - loss: 0.0030 - acc: 0.9992 - val_loss: 0.1469 - val_acc: 0.9802\n",
      "Epoch 165/200\n",
      "33600/33600 [==============================] - 5s 143us/step - loss: 0.0014 - acc: 0.9995 - val_loss: 0.1471 - val_acc: 0.9810\n",
      "Epoch 166/200\n",
      "33600/33600 [==============================] - 5s 144us/step - loss: 0.0019 - acc: 0.9993 - val_loss: 0.1507 - val_acc: 0.9793\n",
      "Epoch 167/200\n",
      "33600/33600 [==============================] - 5s 146us/step - loss: 0.0022 - acc: 0.9993 - val_loss: 0.1527 - val_acc: 0.9798\n",
      "Epoch 168/200\n",
      "33600/33600 [==============================] - 5s 142us/step - loss: 0.0026 - acc: 0.9990 - val_loss: 0.1604 - val_acc: 0.9795\n",
      "Epoch 169/200\n",
      "33600/33600 [==============================] - 4s 112us/step - loss: 0.0076 - acc: 0.9981 - val_loss: 0.1578 - val_acc: 0.9794\n",
      "Epoch 170/200\n",
      "33600/33600 [==============================] - 4s 108us/step - loss: 0.0060 - acc: 0.9982 - val_loss: 0.1397 - val_acc: 0.9811\n",
      "Epoch 171/200\n",
      "33600/33600 [==============================] - 4s 107us/step - loss: 0.0041 - acc: 0.9990 - val_loss: 0.1597 - val_acc: 0.9798\n",
      "Epoch 172/200\n",
      "33600/33600 [==============================] - 4s 107us/step - loss: 0.0040 - acc: 0.9991 - val_loss: 0.1477 - val_acc: 0.9815\n"
     ]
    },
    {
     "name": "stdout",
     "output_type": "stream",
     "text": [
      "Epoch 173/200\n",
      "33600/33600 [==============================] - 4s 106us/step - loss: 0.0017 - acc: 0.9994 - val_loss: 0.1484 - val_acc: 0.9811\n",
      "Epoch 174/200\n",
      "33600/33600 [==============================] - 4s 105us/step - loss: 0.0015 - acc: 0.9995 - val_loss: 0.1436 - val_acc: 0.9808\n",
      "Epoch 175/200\n",
      "33600/33600 [==============================] - 4s 110us/step - loss: 0.0052 - acc: 0.9987 - val_loss: 0.1461 - val_acc: 0.9811\n",
      "Epoch 176/200\n",
      "33600/33600 [==============================] - 4s 104us/step - loss: 0.0047 - acc: 0.9986 - val_loss: 0.1515 - val_acc: 0.9801\n",
      "Epoch 177/200\n",
      "33600/33600 [==============================] - 4s 106us/step - loss: 0.0060 - acc: 0.9983 - val_loss: 0.1345 - val_acc: 0.9798\n",
      "Epoch 178/200\n",
      "33600/33600 [==============================] - 5s 150us/step - loss: 0.0056 - acc: 0.9986 - val_loss: 0.1350 - val_acc: 0.9810\n",
      "Epoch 179/200\n",
      "33600/33600 [==============================] - 4s 110us/step - loss: 0.0025 - acc: 0.9994 - val_loss: 0.1443 - val_acc: 0.9804\n",
      "Epoch 180/200\n",
      "33600/33600 [==============================] - 4s 107us/step - loss: 0.0022 - acc: 0.9994 - val_loss: 0.1422 - val_acc: 0.9806\n",
      "Epoch 181/200\n",
      "33600/33600 [==============================] - 4s 106us/step - loss: 0.0030 - acc: 0.9992 - val_loss: 0.1524 - val_acc: 0.9801\n",
      "Epoch 182/200\n",
      "33600/33600 [==============================] - 5s 142us/step - loss: 0.0040 - acc: 0.9989 - val_loss: 0.1422 - val_acc: 0.9805\n",
      "Epoch 183/200\n",
      "33600/33600 [==============================] - 5s 148us/step - loss: 0.0023 - acc: 0.9995 - val_loss: 0.1396 - val_acc: 0.9805\n",
      "Epoch 184/200\n",
      "33600/33600 [==============================] - 5s 144us/step - loss: 0.0026 - acc: 0.9993 - val_loss: 0.1478 - val_acc: 0.98180s - loss: 0.0029 - acc\n",
      "Epoch 185/200\n",
      "33600/33600 [==============================] - 5s 143us/step - loss: 0.0016 - acc: 0.9996 - val_loss: 0.1557 - val_acc: 0.9812\n",
      "Epoch 186/200\n",
      "33600/33600 [==============================] - 5s 145us/step - loss: 0.0040 - acc: 0.9989 - val_loss: 0.1482 - val_acc: 0.9801\n",
      "Epoch 187/200\n",
      "33600/33600 [==============================] - 5s 137us/step - loss: 0.0038 - acc: 0.9990 - val_loss: 0.1479 - val_acc: 0.9794\n",
      "Epoch 188/200\n",
      "33600/33600 [==============================] - 4s 105us/step - loss: 0.0045 - acc: 0.9987 - val_loss: 0.1567 - val_acc: 0.9781\n",
      "Epoch 189/200\n",
      "33600/33600 [==============================] - 4s 106us/step - loss: 0.0030 - acc: 0.9992 - val_loss: 0.1531 - val_acc: 0.9795\n",
      "Epoch 190/200\n",
      "33600/33600 [==============================] - 4s 124us/step - loss: 0.0033 - acc: 0.9989 - val_loss: 0.1521 - val_acc: 0.9795\n",
      "Epoch 191/200\n",
      "33600/33600 [==============================] - 4s 115us/step - loss: 0.0047 - acc: 0.9988 - val_loss: 0.1514 - val_acc: 0.9789\n",
      "Epoch 192/200\n",
      "33600/33600 [==============================] - 4s 115us/step - loss: 0.0038 - acc: 0.9990 - val_loss: 0.1618 - val_acc: 0.9798\n",
      "Epoch 193/200\n",
      "33600/33600 [==============================] - 4s 118us/step - loss: 0.0050 - acc: 0.9986 - val_loss: 0.1411 - val_acc: 0.9800\n",
      "Epoch 194/200\n",
      "33600/33600 [==============================] - 4s 127us/step - loss: 0.0033 - acc: 0.9991 - val_loss: 0.1425 - val_acc: 0.9800\n",
      "Epoch 195/200\n",
      "33600/33600 [==============================] - 4s 110us/step - loss: 0.0040 - acc: 0.9988 - val_loss: 0.1405 - val_acc: 0.9812\n",
      "Epoch 196/200\n",
      "33600/33600 [==============================] - 5s 138us/step - loss: 0.0025 - acc: 0.9993 - val_loss: 0.1424 - val_acc: 0.9813\n",
      "Epoch 197/200\n",
      "33600/33600 [==============================] - 5s 142us/step - loss: 0.0030 - acc: 0.9992 - val_loss: 0.1457 - val_acc: 0.9804\n",
      "Epoch 198/200\n",
      "33600/33600 [==============================] - 5s 152us/step - loss: 0.0033 - acc: 0.9991 - val_loss: 0.1451 - val_acc: 0.9806\n",
      "Epoch 199/200\n",
      "33600/33600 [==============================] - 5s 148us/step - loss: 6.0595e-04 - acc: 0.9998 - val_loss: 0.1450 - val_acc: 0.9805\n",
      "Epoch 200/200\n",
      "33600/33600 [==============================] - 5s 146us/step - loss: 0.0015 - acc: 0.9995 - val_loss: 0.1524 - val_acc: 0.9811\n"
     ]
    }
   ],
   "source": [
    "n_batch_size = 256\n",
    "n_epochs = 200\n",
    "history = m.fit(X_train, y_train, \n",
    "                batch_size=n_batch_size, \n",
    "                epochs=n_epochs, \n",
    "                validation_data=(X_test,y_test))"
   ]
  },
  {
   "cell_type": "markdown",
   "metadata": {},
   "source": [
    "### Validation accuracy"
   ]
  },
  {
   "cell_type": "code",
   "execution_count": 24,
   "metadata": {},
   "outputs": [
    {
     "data": {
      "text/plain": [
       "[<matplotlib.lines.Line2D at 0x1db2751f320>]"
      ]
     },
     "execution_count": 24,
     "metadata": {},
     "output_type": "execute_result"
    },
    {
     "data": {
      "image/png": "[encoded data removed]",
      "text/plain": [
       "<Figure size 432x288 with 1 Axes>"
      ]
     },
     "metadata": {
      "needs_background": "light"
     },
     "output_type": "display_data"
    }
   ],
   "source": [
    "plt.plot(history.history['val_acc'],'b')\n",
    "plt.plot(history.history['acc'],'r')"
   ]
  },
  {
   "cell_type": "markdown",
   "metadata": {},
   "source": [
    "### Validation loss"
   ]
  },
  {
   "cell_type": "code",
   "execution_count": 25,
   "metadata": {},
   "outputs": [
    {
     "data": {
      "text/plain": [
       "[<matplotlib.lines.Line2D at 0x1db2751f198>]"
      ]
     },
     "execution_count": 25,
     "metadata": {},
     "output_type": "execute_result"
    },
    {
     "data": {
      "image/png": "[encoded data removed]",
      "text/plain": [
       "<Figure size 432x288 with 1 Axes>"
      ]
     },
     "metadata": {
      "needs_background": "light"
     },
     "output_type": "display_data"
    }
   ],
   "source": [
    "plt.plot(history.history['val_loss'],'r')\n",
    "plt.plot(history.history['loss'],'b')"
   ]
  },
  {
   "cell_type": "markdown",
   "metadata": {},
   "source": [
    "# 4. Model test on validation set (y_test)\n",
    "\n",
    "WIll run it on X_test and result set would be validated against y_test"
   ]
  },
  {
   "cell_type": "code",
   "execution_count": 26,
   "metadata": {},
   "outputs": [
    {
     "data": {
      "text/plain": [
       "array([[0, 0, 0, ..., 0, 0, 0],\n",
       "       [0, 0, 0, ..., 0, 0, 0],\n",
       "       [0, 0, 1, ..., 0, 0, 0],\n",
       "       ...,\n",
       "       [0, 0, 0, ..., 0, 0, 0],\n",
       "       [0, 0, 0, ..., 1, 0, 0],\n",
       "       [0, 1, 0, ..., 0, 0, 0]], dtype=int64)"
      ]
     },
     "execution_count": 26,
     "metadata": {},
     "output_type": "execute_result"
    }
   ],
   "source": [
    "y_pred = np.round(m.predict(X_test)).astype('int64')\n",
    "y_pred"
   ]
  },
  {
   "cell_type": "code",
   "execution_count": 27,
   "metadata": {},
   "outputs": [
    {
     "data": {
      "text/plain": [
       "array([4, 3, 2, ..., 3, 7, 1], dtype=int64)"
      ]
     },
     "execution_count": 27,
     "metadata": {},
     "output_type": "execute_result"
    }
   ],
   "source": [
    "# remove the categories from y_pred\n",
    "# select the indix with the maximum probability\n",
    "y_pred1 = np.argmax(y_pred,axis = 1)\n",
    "y_pred1"
   ]
  },
  {
   "cell_type": "code",
   "execution_count": 28,
   "metadata": {},
   "outputs": [
    {
     "data": {
      "text/plain": [
       "array([4, 3, 2, ..., 3, 7, 1], dtype=int64)"
      ]
     },
     "execution_count": 28,
     "metadata": {},
     "output_type": "execute_result"
    }
   ],
   "source": [
    "# do the same for y_test\n",
    "# select the index with the maximum probability\n",
    "y_test1 = np.argmax(y_test,axis = 1)\n",
    "y_test1"
   ]
  },
  {
   "cell_type": "code",
   "execution_count": 29,
   "metadata": {},
   "outputs": [
    {
     "name": "stdout",
     "output_type": "stream",
     "text": [
      "1    930\n",
      "7    885\n",
      "8    847\n",
      "3    843\n",
      "0    831\n",
      "6    822\n",
      "2    820\n",
      "4    817\n",
      "9    804\n",
      "5    801\n",
      "Name: label, dtype: int64\n"
     ]
    },
    {
     "data": {
      "text/plain": [
       "<matplotlib.axes._subplots.AxesSubplot at 0x1db270d4f28>"
      ]
     },
     "execution_count": 29,
     "metadata": {},
     "output_type": "execute_result"
    },
    {
     "data": {
      "image/png": "[encoded data removed]",
      "text/plain": [
       "<Figure size 432x288 with 1 Axes>"
      ]
     },
     "metadata": {
      "needs_background": "light"
     },
     "output_type": "display_data"
    }
   ],
   "source": [
    "# print the frequency of each label\n",
    "\n",
    "y = pd.DataFrame(y_pred1)\n",
    "y.columns=['label']\n",
    "print(y['label'].value_counts())\n",
    "\n",
    "y[y['label'] < 0] = 0\n",
    "y[y['label'] > 9] = 9\n",
    "\n",
    "sns.countplot(y['label'])"
   ]
  },
  {
   "cell_type": "code",
   "execution_count": 30,
   "metadata": {},
   "outputs": [
    {
     "name": "stdout",
     "output_type": "stream",
     "text": [
      "Accuracy score for y_test:  0.9808333333333333\n"
     ]
    }
   ],
   "source": [
    "print('Accuracy score for y_test: ', metrics.accuracy_score(y_test1,y_pred1))"
   ]
  },
  {
   "cell_type": "code",
   "execution_count": 31,
   "metadata": {},
   "outputs": [
    {
     "data": {
      "text/html": [
       "<div>\n",
       "<style scoped>\n",
       "    .dataframe tbody tr th:only-of-type {\n",
       "        vertical-align: middle;\n",
       "    }\n",
       "\n",
       "    .dataframe tbody tr th {\n",
       "        vertical-align: top;\n",
       "    }\n",
       "\n",
       "    .dataframe thead th {\n",
       "        text-align: right;\n",
       "    }\n",
       "</style>\n",
       "<table border=\"1\" class=\"dataframe\">\n",
       "  <thead>\n",
       "    <tr style=\"text-align: right;\">\n",
       "      <th></th>\n",
       "      <th>0</th>\n",
       "      <th>1</th>\n",
       "      <th>2</th>\n",
       "      <th>3</th>\n",
       "      <th>4</th>\n",
       "      <th>5</th>\n",
       "      <th>6</th>\n",
       "      <th>7</th>\n",
       "      <th>8</th>\n",
       "      <th>9</th>\n",
       "    </tr>\n",
       "  </thead>\n",
       "  <tbody>\n",
       "    <tr>\n",
       "      <th>0</th>\n",
       "      <td>814</td>\n",
       "      <td>0</td>\n",
       "      <td>2</td>\n",
       "      <td>0</td>\n",
       "      <td>0</td>\n",
       "      <td>1</td>\n",
       "      <td>1</td>\n",
       "      <td>0</td>\n",
       "      <td>6</td>\n",
       "      <td>1</td>\n",
       "    </tr>\n",
       "    <tr>\n",
       "      <th>1</th>\n",
       "      <td>0</td>\n",
       "      <td>916</td>\n",
       "      <td>0</td>\n",
       "      <td>1</td>\n",
       "      <td>1</td>\n",
       "      <td>0</td>\n",
       "      <td>1</td>\n",
       "      <td>4</td>\n",
       "      <td>2</td>\n",
       "      <td>0</td>\n",
       "    </tr>\n",
       "    <tr>\n",
       "      <th>2</th>\n",
       "      <td>3</td>\n",
       "      <td>0</td>\n",
       "      <td>797</td>\n",
       "      <td>3</td>\n",
       "      <td>0</td>\n",
       "      <td>0</td>\n",
       "      <td>0</td>\n",
       "      <td>2</td>\n",
       "      <td>1</td>\n",
       "      <td>2</td>\n",
       "    </tr>\n",
       "    <tr>\n",
       "      <th>3</th>\n",
       "      <td>3</td>\n",
       "      <td>0</td>\n",
       "      <td>10</td>\n",
       "      <td>831</td>\n",
       "      <td>1</td>\n",
       "      <td>10</td>\n",
       "      <td>0</td>\n",
       "      <td>0</td>\n",
       "      <td>5</td>\n",
       "      <td>6</td>\n",
       "    </tr>\n",
       "    <tr>\n",
       "      <th>4</th>\n",
       "      <td>1</td>\n",
       "      <td>4</td>\n",
       "      <td>0</td>\n",
       "      <td>1</td>\n",
       "      <td>807</td>\n",
       "      <td>0</td>\n",
       "      <td>3</td>\n",
       "      <td>0</td>\n",
       "      <td>2</td>\n",
       "      <td>5</td>\n",
       "    </tr>\n",
       "    <tr>\n",
       "      <th>5</th>\n",
       "      <td>3</td>\n",
       "      <td>1</td>\n",
       "      <td>1</td>\n",
       "      <td>6</td>\n",
       "      <td>0</td>\n",
       "      <td>784</td>\n",
       "      <td>6</td>\n",
       "      <td>0</td>\n",
       "      <td>4</td>\n",
       "      <td>1</td>\n",
       "    </tr>\n",
       "    <tr>\n",
       "      <th>6</th>\n",
       "      <td>3</td>\n",
       "      <td>3</td>\n",
       "      <td>1</td>\n",
       "      <td>0</td>\n",
       "      <td>4</td>\n",
       "      <td>2</td>\n",
       "      <td>810</td>\n",
       "      <td>0</td>\n",
       "      <td>1</td>\n",
       "      <td>0</td>\n",
       "    </tr>\n",
       "    <tr>\n",
       "      <th>7</th>\n",
       "      <td>0</td>\n",
       "      <td>4</td>\n",
       "      <td>8</td>\n",
       "      <td>0</td>\n",
       "      <td>0</td>\n",
       "      <td>0</td>\n",
       "      <td>0</td>\n",
       "      <td>873</td>\n",
       "      <td>1</td>\n",
       "      <td>1</td>\n",
       "    </tr>\n",
       "    <tr>\n",
       "      <th>8</th>\n",
       "      <td>0</td>\n",
       "      <td>1</td>\n",
       "      <td>1</td>\n",
       "      <td>1</td>\n",
       "      <td>0</td>\n",
       "      <td>2</td>\n",
       "      <td>1</td>\n",
       "      <td>1</td>\n",
       "      <td>821</td>\n",
       "      <td>2</td>\n",
       "    </tr>\n",
       "    <tr>\n",
       "      <th>9</th>\n",
       "      <td>4</td>\n",
       "      <td>1</td>\n",
       "      <td>0</td>\n",
       "      <td>0</td>\n",
       "      <td>4</td>\n",
       "      <td>2</td>\n",
       "      <td>0</td>\n",
       "      <td>5</td>\n",
       "      <td>4</td>\n",
       "      <td>786</td>\n",
       "    </tr>\n",
       "  </tbody>\n",
       "</table>\n",
       "</div>"
      ],
      "text/plain": [
       "     0    1    2    3    4    5    6    7    8    9\n",
       "0  814    0    2    0    0    1    1    0    6    1\n",
       "1    0  916    0    1    1    0    1    4    2    0\n",
       "2    3    0  797    3    0    0    0    2    1    2\n",
       "3    3    0   10  831    1   10    0    0    5    6\n",
       "4    1    4    0    1  807    0    3    0    2    5\n",
       "5    3    1    1    6    0  784    6    0    4    1\n",
       "6    3    3    1    0    4    2  810    0    1    0\n",
       "7    0    4    8    0    0    0    0  873    1    1\n",
       "8    0    1    1    1    0    2    1    1  821    2\n",
       "9    4    1    0    0    4    2    0    5    4  786"
      ]
     },
     "execution_count": 31,
     "metadata": {},
     "output_type": "execute_result"
    }
   ],
   "source": [
    "pd.DataFrame(metrics.confusion_matrix(y_test1,y_pred1))"
   ]
  },
  {
   "cell_type": "code",
   "execution_count": 32,
   "metadata": {},
   "outputs": [],
   "source": [
    "# combine actual and predicted in a single df\n",
    "X_test['actual'] = y_test1\n",
    "X_test['pred'] = y_pred1"
   ]
  },
  {
   "cell_type": "code",
   "execution_count": 33,
   "metadata": {},
   "outputs": [
    {
     "data": {
      "text/plain": [
       "(161, 786)"
      ]
     },
     "execution_count": 33,
     "metadata": {},
     "output_type": "execute_result"
    }
   ],
   "source": [
    "X_test_err = X_test[X_test['actual'] != X_test['pred']]\n",
    "X_test_err.shape"
   ]
  },
  {
   "cell_type": "markdown",
   "metadata": {},
   "source": [
    "Many predictions went wrong. Lets draw few of them. "
   ]
  },
  {
   "cell_type": "code",
   "execution_count": 34,
   "metadata": {
    "scrolled": false
   },
   "outputs": [
    {
     "name": "stdout",
     "output_type": "stream",
     "text": [
      "actual 5 ; predicted 6\n"
     ]
    },
    {
     "data": {
      "image/png": "[encoded data removed]",
      "text/plain": [
       "<Figure size 72x72 with 1 Axes>"
      ]
     },
     "metadata": {
      "needs_background": "light"
     },
     "output_type": "display_data"
    },
    {
     "name": "stdout",
     "output_type": "stream",
     "text": [
      "actual 7 ; predicted 2\n"
     ]
    },
    {
     "data": {
      "image/png": "[encoded data removed]",
      "text/plain": [
       "<Figure size 72x72 with 1 Axes>"
      ]
     },
     "metadata": {
      "needs_background": "light"
     },
     "output_type": "display_data"
    },
    {
     "name": "stdout",
     "output_type": "stream",
     "text": [
      "actual 7 ; predicted 2\n"
     ]
    },
    {
     "data": {
      "image/png": "[encoded data removed]",
      "text/plain": [
       "<Figure size 72x72 with 1 Axes>"
      ]
     },
     "metadata": {
      "needs_background": "light"
     },
     "output_type": "display_data"
    },
    {
     "name": "stdout",
     "output_type": "stream",
     "text": [
      "actual 3 ; predicted 5\n"
     ]
    },
    {
     "data": {
      "image/png": "[encoded data removed]",
      "text/plain": [
       "<Figure size 72x72 with 1 Axes>"
      ]
     },
     "metadata": {
      "needs_background": "light"
     },
     "output_type": "display_data"
    },
    {
     "name": "stdout",
     "output_type": "stream",
     "text": [
      "actual 9 ; predicted 1\n"
     ]
    },
    {
     "data": {
      "image/png": "[encoded data removed]",
      "text/plain": [
       "<Figure size 72x72 with 1 Axes>"
      ]
     },
     "metadata": {
      "needs_background": "light"
     },
     "output_type": "display_data"
    },
    {
     "name": "stdout",
     "output_type": "stream",
     "text": [
      "actual 4 ; predicted 9\n"
     ]
    },
    {
     "data": {
      "image/png": "[encoded data removed]",
      "text/plain": [
       "<Figure size 72x72 with 1 Axes>"
      ]
     },
     "metadata": {
      "needs_background": "light"
     },
     "output_type": "display_data"
    },
    {
     "name": "stdout",
     "output_type": "stream",
     "text": [
      "actual 9 ; predicted 0\n"
     ]
    },
    {
     "data": {
      "image/png": "[encoded data removed]",
      "text/plain": [
       "<Figure size 72x72 with 1 Axes>"
      ]
     },
     "metadata": {
      "needs_background": "light"
     },
     "output_type": "display_data"
    },
    {
     "name": "stdout",
     "output_type": "stream",
     "text": [
      "actual 1 ; predicted 7\n"
     ]
    },
    {
     "data": {
      "image/png": "[encoded data removed]",
      "text/plain": [
       "<Figure size 72x72 with 1 Axes>"
      ]
     },
     "metadata": {
      "needs_background": "light"
     },
     "output_type": "display_data"
    },
    {
     "name": "stdout",
     "output_type": "stream",
     "text": [
      "actual 3 ; predicted 0\n"
     ]
    },
    {
     "data": {
      "image/png": "[encoded data removed]",
      "text/plain": [
       "<Figure size 72x72 with 1 Axes>"
      ]
     },
     "metadata": {
      "needs_background": "light"
     },
     "output_type": "display_data"
    },
    {
     "name": "stdout",
     "output_type": "stream",
     "text": [
      "actual 3 ; predicted 2\n"
     ]
    },
    {
     "data": {
      "image/png": "[encoded data removed]",
      "text/plain": [
       "<Figure size 72x72 with 1 Axes>"
      ]
     },
     "metadata": {
      "needs_background": "light"
     },
     "output_type": "display_data"
    }
   ],
   "source": [
    "for i in range (10):\n",
    "    act=X_test_err['actual'].values[i]\n",
    "    prd=X_test_err['pred'].values[i]\n",
    "    print(\"actual {0} ; predicted {1}\".format(act,prd))\n",
    "    plt.figure(figsize=(1,1))\n",
    "    plt.imshow(X_test_err.drop(['actual','pred'], axis=1).values[i].reshape(28,28))\n",
    "    plt.axis(\"off\")\n",
    "    plt.show()"
   ]
  },
  {
   "cell_type": "markdown",
   "metadata": {},
   "source": [
    "Few of the images are easy but tricky. \n",
    "\n",
    "Model should be trained further with augmented images to achieve better accuracy"
   ]
  },
  {
   "cell_type": "markdown",
   "metadata": {},
   "source": [
    "# 5. Final Submission"
   ]
  },
  {
   "cell_type": "markdown",
   "metadata": {},
   "source": [
    "Finally, time to run model on required test set and sumbit the result on Kaggle"
   ]
  },
  {
   "cell_type": "markdown",
   "metadata": {},
   "source": [
    "### Run on test data (df_test) and display few test images"
   ]
  },
  {
   "cell_type": "code",
   "execution_count": 48,
   "metadata": {},
   "outputs": [],
   "source": [
    "# normalize the input data\n",
    "df_test = df_test / 255"
   ]
  },
  {
   "cell_type": "code",
   "execution_count": 49,
   "metadata": {},
   "outputs": [
    {
     "data": {
      "text/plain": [
       "array([[4.0866291e-34, 3.0892675e-29, 1.0000000e+00, ..., 8.8787739e-28,\n",
       "        1.0649112e-33, 0.0000000e+00],\n",
       "       [1.0000000e+00, 0.0000000e+00, 6.9289331e-25, ..., 8.0300410e-25,\n",
       "        1.9311382e-34, 7.3570746e-23],\n",
       "       [2.6295648e-14, 8.9741769e-15, 5.0680315e-13, ..., 1.7522428e-10,\n",
       "        4.9397536e-10, 1.0000000e+00],\n",
       "       ...,\n",
       "       [0.0000000e+00, 1.7697534e-35, 5.9221966e-34, ..., 1.8334228e-25,\n",
       "        5.0195982e-30, 5.0778208e-29],\n",
       "       [2.6948345e-15, 1.4983328e-17, 5.5352846e-16, ..., 5.5346309e-12,\n",
       "        1.3689507e-12, 1.0000000e+00],\n",
       "       [1.8595029e-35, 2.4696586e-29, 1.0000000e+00, ..., 1.5547463e-27,\n",
       "        9.8086150e-36, 0.0000000e+00]], dtype=float32)"
      ]
     },
     "execution_count": 49,
     "metadata": {},
     "output_type": "execute_result"
    }
   ],
   "source": [
    "pred = m.predict(df_test)\n",
    "pred"
   ]
  },
  {
   "cell_type": "code",
   "execution_count": 50,
   "metadata": {},
   "outputs": [
    {
     "data": {
      "text/plain": [
       "array([2, 0, 9, ..., 3, 9, 2], dtype=int64)"
      ]
     },
     "execution_count": 50,
     "metadata": {},
     "output_type": "execute_result"
    }
   ],
   "source": [
    "# select the index with the maximum probability\n",
    "pred = np.argmax(pred,axis = 1)\n",
    "pred"
   ]
  },
  {
   "cell_type": "markdown",
   "metadata": {},
   "source": [
    "Display few images and their respective predicted labels"
   ]
  },
  {
   "cell_type": "code",
   "execution_count": 51,
   "metadata": {},
   "outputs": [
    {
     "name": "stdout",
     "output_type": "stream",
     "text": [
      "Prediction 2\n"
     ]
    },
    {
     "data": {
      "image/png": "[encoded data removed]",
      "text/plain": [
       "<Figure size 72x72 with 1 Axes>"
      ]
     },
     "metadata": {
      "needs_background": "light"
     },
     "output_type": "display_data"
    },
    {
     "name": "stdout",
     "output_type": "stream",
     "text": [
      "Prediction 0\n"
     ]
    },
    {
     "data": {
      "image/png": "[encoded data removed]",
      "text/plain": [
       "<Figure size 72x72 with 1 Axes>"
      ]
     },
     "metadata": {
      "needs_background": "light"
     },
     "output_type": "display_data"
    },
    {
     "name": "stdout",
     "output_type": "stream",
     "text": [
      "Prediction 9\n"
     ]
    },
    {
     "data": {
      "image/png": "[encoded data removed]",
      "text/plain": [
       "<Figure size 72x72 with 1 Axes>"
      ]
     },
     "metadata": {
      "needs_background": "light"
     },
     "output_type": "display_data"
    },
    {
     "name": "stdout",
     "output_type": "stream",
     "text": [
      "Prediction 9\n"
     ]
    },
    {
     "data": {
      "image/png": "[encoded data removed]",
      "text/plain": [
       "<Figure size 72x72 with 1 Axes>"
      ]
     },
     "metadata": {
      "needs_background": "light"
     },
     "output_type": "display_data"
    },
    {
     "name": "stdout",
     "output_type": "stream",
     "text": [
      "Prediction 3\n"
     ]
    },
    {
     "data": {
      "image/png": "[encoded data removed]",
      "text/plain": [
       "<Figure size 72x72 with 1 Axes>"
      ]
     },
     "metadata": {
      "needs_background": "light"
     },
     "output_type": "display_data"
    },
    {
     "name": "stdout",
     "output_type": "stream",
     "text": [
      "Prediction 7\n"
     ]
    },
    {
     "data": {
      "image/png": "[encoded data removed]",
      "text/plain": [
       "<Figure size 72x72 with 1 Axes>"
      ]
     },
     "metadata": {
      "needs_background": "light"
     },
     "output_type": "display_data"
    },
    {
     "name": "stdout",
     "output_type": "stream",
     "text": [
      "Prediction 0\n"
     ]
    },
    {
     "data": {
      "image/png": "[encoded data removed]",
      "text/plain": [
       "<Figure size 72x72 with 1 Axes>"
      ]
     },
     "metadata": {
      "needs_background": "light"
     },
     "output_type": "display_data"
    },
    {
     "name": "stdout",
     "output_type": "stream",
     "text": [
      "Prediction 3\n"
     ]
    },
    {
     "data": {
      "image/png": "[encoded data removed]",
      "text/plain": [
       "<Figure size 72x72 with 1 Axes>"
      ]
     },
     "metadata": {
      "needs_background": "light"
     },
     "output_type": "display_data"
    },
    {
     "name": "stdout",
     "output_type": "stream",
     "text": [
      "Prediction 0\n"
     ]
    },
    {
     "data": {
      "image/png": "[encoded data removed]",
      "text/plain": [
       "<Figure size 72x72 with 1 Axes>"
      ]
     },
     "metadata": {
      "needs_background": "light"
     },
     "output_type": "display_data"
    },
    {
     "name": "stdout",
     "output_type": "stream",
     "text": [
      "Prediction 3\n"
     ]
    },
    {
     "data": {
      "image/png": "[encoded data removed]",
      "text/plain": [
       "<Figure size 72x72 with 1 Axes>"
      ]
     },
     "metadata": {
      "needs_background": "light"
     },
     "output_type": "display_data"
    },
    {
     "name": "stdout",
     "output_type": "stream",
     "text": [
      "Prediction 5\n"
     ]
    },
    {
     "data": {
      "image/png": "[encoded data removed]",
      "text/plain": [
       "<Figure size 72x72 with 1 Axes>"
      ]
     },
     "metadata": {
      "needs_background": "light"
     },
     "output_type": "display_data"
    }
   ],
   "source": [
    "\n",
    "for i in range(11):  \n",
    "    print('Prediction {0}'.format(pred[i]))\n",
    "    plt.figure(figsize=(1,1))\n",
    "    plt.imshow(df_test.values[i].reshape(28,28) )\n",
    "    plt.axis('off')\n",
    "    plt.show()\n"
   ]
  },
  {
   "cell_type": "markdown",
   "metadata": {},
   "source": [
    "Model is doing a good job, but fails for distorted images. "
   ]
  },
  {
   "cell_type": "code",
   "execution_count": 53,
   "metadata": {},
   "outputs": [],
   "source": [
    "pred = pd.Series(pred,name=\"Label\")"
   ]
  },
  {
   "cell_type": "code",
   "execution_count": 54,
   "metadata": {},
   "outputs": [],
   "source": [
    "submit = pd.concat([pd.Series(range(1,28001),name = \"ImageId\"),pred],axis = 1)\n",
    "\n",
    "submit.to_csv(\"cnn_mnist_fewsteps_keras.csv\",index=False)"
   ]
  },
  {
   "cell_type": "markdown",
   "metadata": {},
   "source": [
    "Building models on personal computer has its own limitations. Like in this case, training with more epochs and using more custom parameters will eat into computer resources. I plan to run GridSearch with more customized parameters option on AWS cloud solution and let it take time that it needs."
   ]
  },
  {
   "cell_type": "markdown",
   "metadata": {},
   "source": [
    "I end this notebook here with leaving further scope of improvement to keras. Share your improvement ideas in comments. If you found this notebook helpful or you just liked it, some upvotes would be very much appreciated. It will keep me motivated :)\n",
    "\n",
    "Thanks for visiting. "
   ]
  },
  {
   "cell_type": "code",
   "execution_count": null,
   "metadata": {},
   "outputs": [],
   "source": []
  }
 ],
 "metadata": {
  "kernelspec": {
   "display_name": "Python 3",
   "language": "python",
   "name": "python3"
  },
  "language_info": {
   "codemirror_mode": {
    "name": "ipython",
    "version": 3
   },
   "file_extension": ".py",
   "mimetype": "text/x-python",
   "name": "python",
   "nbconvert_exporter": "python",
   "pygments_lexer": "ipython3",
   "version": "3.7.3"
  }
 },
 "nbformat": 4,
 "nbformat_minor": 2
}
